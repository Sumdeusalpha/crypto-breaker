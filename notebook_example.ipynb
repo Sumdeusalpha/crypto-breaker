from collapse_engine import CollapseConvergenceEngine, ec_mult

# Curve parameters
prime = 1048783
curve_order = 1050337
G = (231634, 106125)
target_Q = (1047961, 428633)
a = 0

# Initialize collapse engine
engine = CollapseConvergenceEngine(G, target_Q, a, prime, curve_order)

# Start sweep
final_result = engine.sweep_resonance_basin(center_scalar=70943, sweep_range=100000, step=1)
print(final_result)
